{
 "cells": [
  {
   "cell_type": "markdown",
   "id": "1d45999e",
   "metadata": {},
   "source": [
    "# Local tests (NO POSTGRES)"
   ]
  },
  {
   "cell_type": "code",
   "execution_count": 22,
   "id": "59ba79bd",
   "metadata": {},
   "outputs": [
    {
     "name": "stdout",
     "output_type": "stream",
     "text": [
      "Structured output written to CDC.txt\n"
     ]
    }
   ],
   "source": [
    "%run src/cdc_pdf_to_text.py CDC.pdf CDC.txt"
   ]
  },
  {
   "cell_type": "code",
   "execution_count": null,
   "id": "07bf71a0",
   "metadata": {},
   "outputs": [],
   "source": [
    "from sentence_transformers import SentenceTransformer, util\n",
    "\n",
    "# Load SBERT model\n",
    "model = SentenceTransformer('paraphrase-multilingual-MiniLM-L12-v2')\n",
    "\n",
    "paragraphs = []\n",
    "\n",
    "with open(\"CDC.txt\", \"r\", encoding=\"utf-8\") as f:\n",
    "    chapter = None\n",
    "    paragraphs = f.read().split(\"\\n\")\n",
    "\n",
    "# Embed\n",
    "embeddings = model.encode(paragraphs)"
   ]
  },
  {
   "cell_type": "code",
   "execution_count": 21,
   "id": "4d4fcd2f",
   "metadata": {},
   "outputs": [
    {
     "name": "stdout",
     "output_type": "stream",
     "text": [
      "CAPITULO IV - Art. 12. O fabricante, o produtor, o construtor, na-  cional ou estrangeiro, e o importador respondem, inde- pendentemente da existência de culpa, pela reparação  dos danos causados aos consumidores por defeitos  decorrentes de projeto, fabricação, construção, monta- gem, fórmulas, manipulação, apresentação ou acondi- 12 cionamento de seus produtos, bem como por informa- ções insuficientes ou inadequadas sobre sua utilização   e riscos. \t § 1º O produto é defeituoso quando não oferece a  segurança que dele legitimamente se espera, levando- -se em consideração as circunstâncias relevantes, entre  as quais: \t I - sua apresentação; \t II - o uso e os riscos que razoavelmente dele se  esperam; \t III - a época em que foi colocado em circulação. \t § 2º O produto não é considerado defeituoso pelo  fato de outro de melhor qualidade ter sido colocado no  mercado. \t § 3º O fabricante, o construtor, o produtor ou impor- tador só não será responsabilizado quando provar: \t I - que não colocou o produto no mercado; \t II - que, embora haja colocado o produto no merca- do, o defeito inexiste; \t III - a culpa exclusiva do consumidor ou de terceiro.\n",
      "CAPITULO IV - Art. 23. A ignorância do fornecedor sobre os vícios  de qualidade por inadequação dos produtos e serviços  não o exime de responsabilidade.\n",
      "\n",
      "CAPITULO IV - Art. 21. No fornecimento de serviços que tenham por  objetivo a reparação de qualquer produto considerar- -se-á implícita a obrigação do fornecedor de empregar  componentes de reposição originais adequados e no- vos, ou que mantenham as especificações técnicas do  fabricante, salvo, quanto a estes últimos, autorização  em contrário do consumidor.\n",
      "CAPITULO IV - Art. 18. Os fornecedores de produtos de consumo du-  ráveis ou não duráveis respondem solidariamente pelos  vícios de qualidade ou quantidade que os tornem impró- prios ou inadequados ao consumo a que se destinam ou  14 lhes diminuam o valor, assim como por aqueles decor- rentes da disparidade, com as indicações constantes  do recipiente, da embalagem, rotulagem ou mensagem  publicitária, respeitadas as variações decorrentes de sua  natureza, podendo o consumidor exigir a substituição  das partes viciadas. \t § 1º Não sendo o vício sanado no prazo máximo de  trinta dias, pode o consumidor exigir, alternativamente  e à sua escolha: \t I - a substituição do produto por outro da mesma  espécie, em perfeitas condições de uso; \t II - a restituição imediata da quantia paga, moneta- riamente atualizada, sem prejuízo de eventuais perdas  e danos; \t III - o abatimento proporcional do preço. \t § 2º Poderão as partes convencionar a redução ou  ampliação do prazo previsto no parágrafo anterior, não  podendo ser inferior a sete nem superior a cento e oi- tenta dias. Nos contratos de adesão, a cláusula de prazo  deverá ser convencionada em separado, por meio de  manifestação expressa do consumidor. \t § 3º O consumidor poderá fazer uso imediato das  alternativas do § 1º deste artigo sempre que, em razão  da extensão do vício, a substituição das partes vicia- das puder comprometer a qualidade ou características  do produto, diminuir-lhe o valor ou se tratar de produto  essencial. \t § 4º Tendo o consumidor optado pela alternativa  do inciso I do § 1º deste artigo, e não sendo possível  a substituição do bem, poderá haver substituição por  outro de espécie, marca ou modelo diversos, mediante  complementação ou restituição de eventual diferença de  preço, sem prejuízo do disposto nos incisos II e III do §  1º deste artigo. 15 \t § 5º No caso de fornecimento de produtos in natura,  será responsável perante o consumidor o fornecedor  imediato, exceto quando identificado claramente seu  produtor. \t § 6º São impróprios ao uso e consumo: \t I - os produtos cujos prazos de validade estejam  vencidos; \t II - os produtos deteriorados, alterados, adulterados,  avariados, falsificados, corrompidos, fraudados, nocivos  à vida ou à saúde, perigosos ou, ainda, aqueles em de- sacordo com as normas regulamentares de fabricação,  distribuição ou apresentação; \t III - os produtos que, por qualquer motivo, se revelem  inadequados ao fim a que se destinam.\n",
      "CAPITULO V - Art. 39. É vedado ao fornecedor de produtos ou ser-  viços dentre  outras práticas abusivas:   (Redação dada  pela Lei nº 8.884, de 11.6.1994) \t I - condicionar o fornecimento de produto ou de ser- viço ao fornecimento de outro produto ou serviço, bem  como, sem justa causa, a limites quantitativos; \t II - recusar atendimento às demandas dos consu- midores, na exata medida de suas disponibilidades  de estoque, e, ainda, de conformidade com os usos e  costumes; \t III - enviar ou entregar ao consumidor, sem solici- tação prévia, qualquer produto, ou fornecer qualquer  serviço; \t IV - prevalecer-se da fraqueza ou ignorância do con- sumidor, tendo em vista sua idade, saúde, conhecimento  ou condição social, para impingir-lhe seus produtos ou  serviços; \t V - exigir do consumidor vantagem manifestamente  excessiva; \t VI - executar serviços sem a prévia elaboração de  orçamento e autorização expressa do consumidor, res- salvadas as decorrentes de práticas anteriores entre as  partes; \t VII - repassar informação depreciativa, referen- te a ato praticado pelo consumidor no exercício de  seus direitos; 23 \t VIII - colocar, no mercado de consumo, qualquer  produto ou serviço em desacordo com as normas expe- didas pelos órgãos oficiais competentes ou, se normas  específicas não existirem, pela Associação Brasileira  de Normas Técnicas ou outra entidade credenciada  pelo Conselho Nacional de Metrologia, Normalização e  Qualidade Industrial (Conmetro); \t IX - recusar a venda de bens ou a prestação de ser- viços, diretamente a quem se disponha a adquiri-los  mediante pronto pagamento, ressalvados os casos de  intermediação regulados em leis especiais;   (Redação  dada pela Lei nº 8.884, de 11.6.1994) \t X - elevar sem justa causa o preço de produtos ou  serviços;   (Incluído pela Lei nº 8.884, de 11.6.1994) \t XI - dispositivo  incluído pela MP nº 1.890-67, de  22.10.1999, transformado em inciso XIII, quando da con- versão na Lei nº 9.870, de 23.11.1999; \t XII - deixar de estipular prazo para o cumprimento de  sua obrigação ou deixar a fixação de seu termo inicial  a seu exclusivo critério;   (Incluído pela Lei nº 9.008, de  21.3.1995) \t XIII - aplicar fórmula ou índice de reajuste diverso do  legal ou contratualmente estabelecido;   (Incluído pela  Lei nº 9.870, de 23.11.1999) \t XIV - permitir o ingresso em estabelecimentos comer- ciais ou de serviços de um número maior de consumi- dores que o fixado pela autoridade administrativa como  máximo. (Incluído pela Lei nº 13.425, de 2017) \t Parágrafo único. Os serviços prestados e os produ- tos remetidos ou entregues ao consumidor, na hipótese  prevista no inciso III, equiparam-se às amostras grátis,  inexistindo obrigação de pagamento. 24\n",
      "CAPITULO III - Art. 14. É enganosa qualquer modalidade de infor-  mação ou comunicação de caráter publicitário inteira ou  parcialmente falsa, ou, por qualquer outro modo, mesmo  por omissão, capaz de induzir a erro o consumidor a res- peito da natureza, características, qualidade, quantidade,  propriedade, origem, preço e de quaisquer outros dados  sobre produtos ou serviços. § 1º É enganosa, por omissão, a publicidade que  deixar de informar sobre dado essencial do produto ou  serviço a ser colocado à disposição dos consumidores. § 2º É abusiva, entre outras, a publicidade discrimina- tória de qualquer natureza, que incite à violência, explore  o medo ou a superstição, se aproveite da deficiência de  julgamento e da inexperiência da criança, desrespeite  valores ambientais, seja capaz de induzir o consumidor  a se comportar de forma prejudicial ou perigosa à sua  saúde ou segurança, ou que viole normas legais ou re- gulamentares de controle da publicidade. § 3º O ônus da prova da veracidade (não-enganosi- dade) e da correção (não-abusividade) da informação  ou comunicação publicitária cabe a quem as patrocina. § 4º Para fins do disposto neste artigo, entende-se  por publicidade a veiculação de mensagem, em meio  analógico ou digital, inclusive por meio de provedor de  aplicação, que vise a promover a oferta ou a aquisição  de produto ou de serviço disponibilizado no mercado de  consumo. (Incluído pelo Decreto nº 10.887, de 2021) 76\n",
      "CAPITULO IV - Art. 19. Os fornecedores respondem solidariamente  pelos vícios de quantidade do produto sempre que, res- peitadas as variações decorrentes de sua natureza, seu  conteúdo líquido for inferior às indicações constantes do  recipiente, da embalagem, rotulagem ou de mensagem  publicitária, podendo o consumidor exigir, alternativa- mente e à sua escolha: \t I - o abatimento proporcional do preço; \t II - a complementação do peso ou medida; \t III - a substituição do produto por outro da mesma  espécie, marca ou modelo, sem os aludidos vícios; \t IV - a restituição imediata da quantia paga, moneta- riamente atualizada, sem prejuízo de eventuais perdas  e danos. \t § 1º Aplica-se a este artigo o disposto no § 4º do ar- tigo anterior. \t § 2º O fornecedor imediato será responsável quando  fizer a pesagem ou a medição e o instrumento utilizado  não estiver aferido segundo os padrões oficiais. 16\n",
      "CAPITULO IV - Art. 11. (Vetado).    SEÇÃO II   Da Responsabilidade pelo Fato do Produto e do  Serviço\n",
      "CAPITULO III - Art. 18. A inobservância das normas contidas na  Lei nº 8.078, de 1990, e das demais normas de defesa  do consumidor constituirá prática infrativa e sujeitará o  fornecedor às seguintes penalidades, que poderão ser  aplicadas isolada ou cumulativamente, inclusive de forma  cautelar, antecedente ou incidente no processo adminis- trativo, sem prejuízo das de natureza cível, penal e das  definidas em normas específicas: I - multa; II - apreensão do produto; Ill - inutilização do produto; IV - cassação do registro do produto junto ao órgão  competente; V - proibição de fabricação do produto; VI - suspensão de fornecimento de produtos ou  serviços; VII - suspensão temporária de atividade; VIII - revogação de concessão ou permissão de uso; IX - cassação de licença do estabelecimento ou de  atividade; X - interdição, total ou parcial, de estabelecimento,  de obra ou de atividade; XI - intervenção administrativa; XII - imposição de contrapropaganda. § 1º Responderá pela prática infrativa, sujeitando- -se às sanções administrativas previstas neste Decreto,  quem por ação ou omissão lhe der causa, concorrer para  sua prática ou dela se beneficiar. § 2º As penalidades previstas neste artigo serão apli- cadas pelos órgãos oficiais integrantes do SNDC, sem  prejuízo das atribuições do órgão normativo ou regulador  da atividade, na forma da legislação vigente. 78 § 3º As penalidades previstas nos incisos III a XI  deste artigo sujeitam-se a   posterior confirmação pelo  órgão normativo ou regulador da atividade, nos limites  de sua competência.\n"
     ]
    }
   ],
   "source": [
    "query = \"Produto com defeito\"\n",
    "# Embed query\n",
    "query_embedding = model.encode(query)\n",
    "results = util.semantic_search(query_embedding, embeddings, score_function=util.dot_score)\n",
    "\n",
    "for result in results[0]:\n",
    "    print(paragraphs[result['corpus_id']])"
   ]
  },
  {
   "cell_type": "markdown",
   "id": "3c83c3b5",
   "metadata": {},
   "source": [
    "# Docker tests (with Postgres)"
   ]
  },
  {
   "cell_type": "code",
   "execution_count": 39,
   "id": "8749db2a",
   "metadata": {
    "vscode": {
     "languageId": "markdown"
    }
   },
   "outputs": [
    {
     "name": "stderr",
     "output_type": "stream",
     "text": [
      "huggingface/tokenizers: The current process just got forked, after parallelism has already been used. Disabling parallelism to avoid deadlocks...\n",
      "To disable this warning, you can either:\n",
      "\t- Avoid using `tokenizers` before the fork if possible\n",
      "\t- Explicitly set the environment variable TOKENIZERS_PARALLELISM=(true | false)\n"
     ]
    },
    {
     "name": "stdout",
     "output_type": "stream",
     "text": [
      "\u001b[1A\u001b[1B\u001b[0G\u001b[?25l[+] Building 0.0s (0/1)                                    docker:desktop-linux\n",
      " => [internal] load build definition from Dockerfile                       0.0s\n",
      "\u001b[?25h\u001b[1A\u001b[1A\u001b[0G\u001b[?25l[+] Building 0.2s (14/14) FINISHED                         docker:desktop-linux\n",
      "\u001b[34m => [internal] load build definition from Dockerfile                       0.0s\n",
      "\u001b[0m\u001b[34m => => transferring dockerfile: 652B                                       0.0s\n",
      "\u001b[0m => WARN: SecretsUsedInArgOrEnv: Do not use ARG or ENV instructions for s  0.0s\n",
      " => WARN: SecretsUsedInArgOrEnv: Do not use ARG or ENV instructions for s  0.0s\n",
      "\u001b[34m => [internal] load metadata for docker.io/pgvector/pgvector:pg17          0.0s\n",
      "\u001b[0m\u001b[34m => [internal] load .dockerignore                                          0.0s\n",
      "\u001b[0m\u001b[34m => => transferring context: 2B                                            0.0s\n",
      "\u001b[0m\u001b[34m => [1/9] FROM docker.io/pgvector/pgvector:pg17@sha256:5982c00a2cdf786c2d  0.0s\n",
      "\u001b[0m\u001b[34m => => resolve docker.io/pgvector/pgvector:pg17@sha256:5982c00a2cdf786c2d  0.0s\n",
      "\u001b[0m\u001b[34m => [internal] load build context                                          0.0s\n",
      "\u001b[0m\u001b[34m => => transferring context: 515B                                          0.0s\n",
      "\u001b[0m\u001b[34m => CACHED [2/9] RUN apt-get update &&     apt-get install -y --no-instal  0.0s\n",
      "\u001b[0m\u001b[34m => CACHED [3/9] COPY requirements.txt /app/                               0.0s\n",
      "\u001b[0m\u001b[34m => CACHED [4/9] RUN pip3 install --no-cache-dir --break-system-packages   0.0s\n",
      "\u001b[0m\u001b[34m => CACHED [5/9] COPY src/ /app/src/                                       0.0s\n",
      "\u001b[0m\u001b[34m => CACHED [6/9] COPY CDC.pdf /app/                                        0.0s\n",
      "\u001b[0m\u001b[34m => CACHED [7/9] WORKDIR /app/                                             0.0s\n",
      "\u001b[0m\u001b[34m => CACHED [8/9] COPY init.sh /app/                                        0.0s\n",
      "\u001b[0m\u001b[34m => CACHED [9/9] RUN chmod +x /app/init.sh                                 0.0s\n",
      "\u001b[0m\u001b[34m => exporting to image                                                     0.0s\n",
      "\u001b[0m\u001b[34m => => exporting layers                                                    0.0s\n",
      "\u001b[0m\u001b[34m => => exporting manifest sha256:711391521cb86f3df0f4ad2a3e7f9b7a10fc8c2a  0.0s\n",
      "\u001b[0m\u001b[34m => => exporting config sha256:ac11ae41436a539c27ba5e800de35bf6bcc56a25f3  0.0s\n",
      "\u001b[0m\u001b[34m => => exporting attestation manifest sha256:3c551f52f89821daf439288470f7  0.0s\n",
      "\u001b[0m\u001b[34m => => exporting manifest list sha256:5ebcefbbf047d9ffb645ebc89c0861e34c4  0.0s\n",
      "\u001b[0m\u001b[34m => => naming to docker.io/library/semantic-search-cdc:latest              0.0s\n",
      "\u001b[0m\u001b[34m => => unpacking to docker.io/library/semantic-search-cdc:latest           0.0s\n",
      "\u001b[0m\u001b[?25h\n",
      " \u001b[33m2 warnings found (use docker --debug to expand):\n",
      "\u001b[0m - SecretsUsedInArgOrEnv: Do not use ARG or ENV instructions for sensitive data (ENV \"POSTGRES_PASSWORD\") (line 4)\n",
      " - SecretsUsedInArgOrEnv: Do not use ARG or ENV instructions for sensitive data (ENV \"POSTGRES_HOST_AUTH_METHOD\") (line 6)\n",
      "semantic-search-cdc\n",
      "767c6885633de1fe521e0f5b9b32096c470225e6e02fa06b5b99cf5cd4682dae\n",
      "CREATE EXTENSION\n",
      "CREATE TABLE\n",
      "Structured output written to CDC.txt\n",
      "modules.json: 100%|█████████████████████████████| 229/229 [00:00<00:00, 668kB/s]\n",
      "config_sentence_transformers.json: 100%|████████| 122/122 [00:00<00:00, 279kB/s]\n",
      "README.md: 100%|███████████████████████████| 3.89k/3.89k [00:00<00:00, 14.3MB/s]\n",
      "sentence_bert_config.json: 100%|██████████████| 53.0/53.0 [00:00<00:00, 688kB/s]\n",
      "config.json: 100%|█████████████████████████████| 645/645 [00:00<00:00, 2.53MB/s]\n",
      "Xet Storage is enabled for this repo, but the 'hf_xet' package is not installed. Falling back to regular HTTP download. For better performance, install the package with: `pip install huggingface_hub[hf_xet]` or `pip install hf_xet`\n",
      "model.safetensors: 100%|█████████████████████| 471M/471M [00:05<00:00, 84.0MB/s]\n",
      "tokenizer_config.json: 100%|███████████████████| 480/480 [00:00<00:00, 1.98MB/s]\n",
      "Xet Storage is enabled for this repo, but the 'hf_xet' package is not installed. Falling back to regular HTTP download. For better performance, install the package with: `pip install huggingface_hub[hf_xet]` or `pip install hf_xet`\n",
      "tokenizer.json: 100%|██████████████████████| 9.08M/9.08M [00:00<00:00, 74.4MB/s]\n",
      "special_tokens_map.json: 100%|█████████████████| 239/239 [00:00<00:00, 1.96MB/s]\n",
      "config.json: 100%|██████████████████████████████| 190/190 [00:00<00:00, 777kB/s]\n"
     ]
    }
   ],
   "source": [
    "!./start.sh"
   ]
  },
  {
   "cell_type": "code",
   "execution_count": 40,
   "id": "a0b2fdf0",
   "metadata": {},
   "outputs": [
    {
     "name": "stdout",
     "output_type": "stream",
     "text": [
      "CAPITULO IV - Art. 12. O fabricante, o produtor, o construtor, na-  cional ou estrangeiro, e o importador respondem, inde- pendentemente da existência de culpa, pela reparação  dos danos causados aos consumidores por defeitos  decorrentes de projeto, fabricação, construção, monta- gem, fórmulas, manipulação, apresentação ou acondi- 12 cionamento de seus produtos, bem como por informa- ções insuficientes ou inadequadas sobre sua utilização   e riscos. \t § 1º O produto é defeituoso quando não oferece a  segurança que dele legitimamente se espera, levando- -se em consideração as circunstâncias relevantes, entre  as quais: \t I - sua apresentação; \t II - o uso e os riscos que razoavelmente dele se  esperam; \t III - a época em que foi colocado em circulação. \t § 2º O produto não é considerado defeituoso pelo  fato de outro de melhor qualidade ter sido colocado no  mercado. \t § 3º O fabricante, o construtor, o produtor ou impor- tador só não será responsabilizado quando provar: \t I - que não colocou o produto no mercado; \t II - que, embora haja colocado o produto no merca- do, o defeito inexiste; \t III - a culpa exclusiva do consumidor ou de terceiro.\n",
      "CAPITULO IV - Art. 18. Os fornecedores de produtos de consumo du-  ráveis ou não duráveis respondem solidariamente pelos  vícios de qualidade ou quantidade que os tornem impró- prios ou inadequados ao consumo a que se destinam ou  14 lhes diminuam o valor, assim como por aqueles decor- rentes da disparidade, com as indicações constantes  do recipiente, da embalagem, rotulagem ou mensagem  publicitária, respeitadas as variações decorrentes de sua  natureza, podendo o consumidor exigir a substituição  das partes viciadas. \t § 1º Não sendo o vício sanado no prazo máximo de  trinta dias, pode o consumidor exigir, alternativamente  e à sua escolha: \t I - a substituição do produto por outro da mesma  espécie, em perfeitas condições de uso; \t II - a restituição imediata da quantia paga, moneta- riamente atualizada, sem prejuízo de eventuais perdas  e danos; \t III - o abatimento proporcional do preço. \t § 2º Poderão as partes convencionar a redução ou  ampliação do prazo previsto no parágrafo anterior, não  podendo ser inferior a sete nem superior a cento e oi- tenta dias. Nos contratos de adesão, a cláusula de prazo  deverá ser convencionada em separado, por meio de  manifestação expressa do consumidor. \t § 3º O consumidor poderá fazer uso imediato das  alternativas do § 1º deste artigo sempre que, em razão  da extensão do vício, a substituição das partes vicia- das puder comprometer a qualidade ou características  do produto, diminuir-lhe o valor ou se tratar de produto  essencial. \t § 4º Tendo o consumidor optado pela alternativa  do inciso I do § 1º deste artigo, e não sendo possível  a substituição do bem, poderá haver substituição por  outro de espécie, marca ou modelo diversos, mediante  complementação ou restituição de eventual diferença de  preço, sem prejuízo do disposto nos incisos II e III do §  1º deste artigo. 15 \t § 5º No caso de fornecimento de produtos in natura,  será responsável perante o consumidor o fornecedor  imediato, exceto quando identificado claramente seu  produtor. \t § 6º São impróprios ao uso e consumo: \t I - os produtos cujos prazos de validade estejam  vencidos; \t II - os produtos deteriorados, alterados, adulterados,  avariados, falsificados, corrompidos, fraudados, nocivos  à vida ou à saúde, perigosos ou, ainda, aqueles em de- sacordo com as normas regulamentares de fabricação,  distribuição ou apresentação; \t III - os produtos que, por qualquer motivo, se revelem  inadequados ao fim a que se destinam.\n",
      "CAPITULO IV - Art. 23. A ignorância do fornecedor sobre os vícios  de qualidade por inadequação dos produtos e serviços  não o exime de responsabilidade.\n",
      "CAPITULO V - Art. 32. Os fabricantes e importadores deverão as-  segurar a oferta de componentes e peças de reposição  enquanto não cessar a fabricação ou importação do  produto. \t Parágrafo único. Cessadas a produção ou impor- tação, a oferta deverá ser mantida por período razoável  de tempo, na forma da lei.\n",
      "CAPITULO III - Art. 14. É enganosa qualquer modalidade de infor-  mação ou comunicação de caráter publicitário inteira ou  parcialmente falsa, ou, por qualquer outro modo, mesmo  por omissão, capaz de induzir a erro o consumidor a res- peito da natureza, características, qualidade, quantidade,  propriedade, origem, preço e de quaisquer outros dados  sobre produtos ou serviços. § 1º É enganosa, por omissão, a publicidade que  deixar de informar sobre dado essencial do produto ou  serviço a ser colocado à disposição dos consumidores. § 2º É abusiva, entre outras, a publicidade discrimina- tória de qualquer natureza, que incite à violência, explore  o medo ou a superstição, se aproveite da deficiência de  julgamento e da inexperiência da criança, desrespeite  valores ambientais, seja capaz de induzir o consumidor  a se comportar de forma prejudicial ou perigosa à sua  saúde ou segurança, ou que viole normas legais ou re- gulamentares de controle da publicidade. § 3º O ônus da prova da veracidade (não-enganosi- dade) e da correção (não-abusividade) da informação  ou comunicação publicitária cabe a quem as patrocina. § 4º Para fins do disposto neste artigo, entende-se  por publicidade a veiculação de mensagem, em meio  analógico ou digital, inclusive por meio de provedor de  aplicação, que vise a promover a oferta ou a aquisição  de produto ou de serviço disponibilizado no mercado de  consumo. (Incluído pelo Decreto nº 10.887, de 2021) 76\n",
      "CAPITULO V - Art. 39. É vedado ao fornecedor de produtos ou ser-  viços dentre  outras práticas abusivas:   (Redação dada  pela Lei nº 8.884, de 11.6.1994) \t I - condicionar o fornecimento de produto ou de ser- viço ao fornecimento de outro produto ou serviço, bem  como, sem justa causa, a limites quantitativos; \t II - recusar atendimento às demandas dos consu- midores, na exata medida de suas disponibilidades  de estoque, e, ainda, de conformidade com os usos e  costumes; \t III - enviar ou entregar ao consumidor, sem solici- tação prévia, qualquer produto, ou fornecer qualquer  serviço; \t IV - prevalecer-se da fraqueza ou ignorância do con- sumidor, tendo em vista sua idade, saúde, conhecimento  ou condição social, para impingir-lhe seus produtos ou  serviços; \t V - exigir do consumidor vantagem manifestamente  excessiva; \t VI - executar serviços sem a prévia elaboração de  orçamento e autorização expressa do consumidor, res- salvadas as decorrentes de práticas anteriores entre as  partes; \t VII - repassar informação depreciativa, referen- te a ato praticado pelo consumidor no exercício de  seus direitos; 23 \t VIII - colocar, no mercado de consumo, qualquer  produto ou serviço em desacordo com as normas expe- didas pelos órgãos oficiais competentes ou, se normas  específicas não existirem, pela Associação Brasileira  de Normas Técnicas ou outra entidade credenciada  pelo Conselho Nacional de Metrologia, Normalização e  Qualidade Industrial (Conmetro); \t IX - recusar a venda de bens ou a prestação de ser- viços, diretamente a quem se disponha a adquiri-los  mediante pronto pagamento, ressalvados os casos de  intermediação regulados em leis especiais;   (Redação  dada pela Lei nº 8.884, de 11.6.1994) \t X - elevar sem justa causa o preço de produtos ou  serviços;   (Incluído pela Lei nº 8.884, de 11.6.1994) \t XI - dispositivo  incluído pela MP nº 1.890-67, de  22.10.1999, transformado em inciso XIII, quando da con- versão na Lei nº 9.870, de 23.11.1999; \t XII - deixar de estipular prazo para o cumprimento de  sua obrigação ou deixar a fixação de seu termo inicial  a seu exclusivo critério;   (Incluído pela Lei nº 9.008, de  21.3.1995) \t XIII - aplicar fórmula ou índice de reajuste diverso do  legal ou contratualmente estabelecido;   (Incluído pela  Lei nº 9.870, de 23.11.1999) \t XIV - permitir o ingresso em estabelecimentos comer- ciais ou de serviços de um número maior de consumi- dores que o fixado pela autoridade administrativa como  máximo. (Incluído pela Lei nº 13.425, de 2017) \t Parágrafo único. Os serviços prestados e os produ- tos remetidos ou entregues ao consumidor, na hipótese  prevista no inciso III, equiparam-se às amostras grátis,  inexistindo obrigação de pagamento. 24\n",
      "CAPITULO IV - Art. 13. O comerciante é igualmente responsável,  nos termos do artigo anterior, quando: \t I - o fabricante, o construtor, o produtor ou o impor- tador não puderem ser identificados; \t II - o produto for fornecido sem identificação clara do  seu fabricante, produtor, construtor ou importador; \t III - não conservar adequadamente os produtos  perecíveis.  Parágrafo único. Aquele que efetivar o pagamento ao  prejudicado poderá exercer o direito de regresso contra  os demais responsáveis, segundo sua participação na  causação do evento danoso. 13\n",
      "CAPITULO IV - Art. 21. No fornecimento de serviços que tenham por  objetivo a reparação de qualquer produto considerar- -se-á implícita a obrigação do fornecedor de empregar  componentes de reposição originais adequados e no- vos, ou que mantenham as especificações técnicas do  fabricante, salvo, quanto a estes últimos, autorização  em contrário do consumidor.\n",
      "CAPITULO IV - Art. 25. É vedada a estipulação contratual de cláusu-  la que impossibilite, exonere ou atenue a obrigação de  indenizar prevista nesta e nas seções anteriores. \t § 1º Havendo mais de um responsável pela causação  do dano, todos responderão solidariamente pela repara- ção prevista nesta e nas seções anteriores. \t § 2º Sendo o dano causado por componente ou peça  incorporada ao produto ou serviço, são responsáveis so- lidários seu fabricante, construtor ou importador e o que  realizou a incorporação. SEÇÃO IV  Da Decadência e da Prescrição\n",
      "CAPITULO IV - Art. 14. O fornecedor de serviços responde, indepen-  dentemente da existência de culpa, pela reparação dos  danos causados aos consumidores por defeitos relativos  à prestação dos serviços, bem como por informações  insuficientes ou inadequadas sobre sua fruição e riscos. \t § 1º O serviço é defeituoso quando não fornece a se- gurança que o consumidor dele pode esperar, levando-se  em consideração as circunstâncias relevantes, entre as  quais: \t I - o modo de seu fornecimento; \t II - o resultado e os riscos que razoavelmente dele  se esperam; \t III - a época em que foi fornecido. \t § 2º O serviço não é considerado defeituoso pela  adoção de novas técnicas. \t § 3º O fornecedor de serviços só não será responsa- bilizado quando provar: \t I - que, tendo prestado o serviço, o defeito inexiste; \t II - a culpa exclusiva do consumidor ou de terceiro. \t § 4º A responsabilidade pessoal dos profissionais li- berais será apurada mediante a verificação de culpa.\n"
     ]
    }
   ],
   "source": [
    "import psycopg2\n",
    "\n",
    "import os\n",
    "\n",
    "query = \"Produto com defeito\"\n",
    "# Embed query\n",
    "query_embedding = model.encode(query)\n",
    "\n",
    "os.environ['POSTGRES_USER'] = 'admin'\n",
    "os.environ['POSTGRES_PASSWORD'] = 'admin'\n",
    "os.environ['POSTGRES_DB'] = 'cdc'\n",
    "\n",
    "# Connect to the PostgreSQL database\n",
    "conn = psycopg2.connect(\n",
    "    dbname=os.environ['POSTGRES_DB'],\n",
    "    user=os.environ['POSTGRES_USER'],\n",
    "    password=os.environ['POSTGRES_PASSWORD'],\n",
    "    host=\"127.0.0.1\",\n",
    "    port=\"5432\"\n",
    ")\n",
    "\n",
    "# Create a cursor object\n",
    "cur = conn.cursor()\n",
    "\n",
    "# Perform a search using pgvector\n",
    "query_vector = query_embedding.tolist()  # Convert the numpy array to a list\n",
    "sql = \"\"\"\n",
    "SELECT id, content, embedding <=> %s::vector AS distance\n",
    "FROM documents\n",
    "ORDER BY distance ASC\n",
    "LIMIT 10;\n",
    "\"\"\"\n",
    "cur.execute(sql, (query_vector,))\n",
    "\n",
    "# Fetch and print the results\n",
    "rows = cur.fetchall()\n",
    "for row in rows:\n",
    "    print(f\"{row[1]}\")\n",
    "\n",
    "# Close the cursor and connection\n",
    "cur.close()\n",
    "conn.close()"
   ]
  },
  {
   "cell_type": "code",
   "execution_count": null,
   "id": "1c8d563d",
   "metadata": {},
   "outputs": [],
   "source": []
  }
 ],
 "metadata": {
  "kernelspec": {
   "display_name": "Python 3",
   "language": "python",
   "name": "python3"
  },
  "language_info": {
   "codemirror_mode": {
    "name": "ipython",
    "version": 3
   },
   "file_extension": ".py",
   "mimetype": "text/x-python",
   "name": "python",
   "nbconvert_exporter": "python",
   "pygments_lexer": "ipython3",
   "version": "3.13.3"
  }
 },
 "nbformat": 4,
 "nbformat_minor": 5
}
